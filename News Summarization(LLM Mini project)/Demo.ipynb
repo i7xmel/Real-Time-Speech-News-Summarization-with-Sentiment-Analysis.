{
 "cells": [
  {
   "cell_type": "markdown",
   "metadata": {},
   "source": [
    "# News Summarization\n"
   ]
  },
  {
   "cell_type": "markdown",
   "metadata": {},
   "source": [
    "### Scrape the article you want to summarize"
   ]
  },
  {
   "cell_type": "code",
   "execution_count": 22,
   "metadata": {},
   "outputs": [],
   "source": [
    "from scraping import return_single_article\n",
    "article = return_single_article('https://www.aljazeera.com/news/2024/7/31/israel-subjecting-palestinian-detainees-to-torture-and-abuse-un-report')\n"
   ]
  },
  {
   "cell_type": "code",
   "execution_count": 23,
   "metadata": {},
   "outputs": [
    {
     "name": "stdout",
     "output_type": "stream",
     "text": [
      "Israel subjecting Palestinian detainees to torture and abuse: UN report \n",
      "\n",
      "\n",
      "By  \n",
      "\n",
      "\n",
      "aljazeera \n",
      "\n",
      "\n",
      "The report says ‘thousands’ of Palestinians detained arbitrarily by Israel during the war in Gaza.\n",
      "\n",
      "Israel has detained thousands of Palestinians during the war in Gaza and stands accused of numerous cases of torture, the Office of the United Nations High Commissioner for Human Rights says in a new report.\n",
      "\n",
      "The 23-page report, released on Wednesday, noted allegations of widespread abuse of prisoners being held incommunicado in arbitrary, prolonged detention. It was published during a tense standoff in Israel as far-right politicians and demonstrators opposed an investigation into alleged sexual abuse of detainees by soldiers.\n",
      "\n",
      "Based primarily on interviews with released detainees and other victims from October 7 to June 30, the UN report found that since the war began, “thousands of Palestinians” including medical staff, have been “taken from Gaza to Israel, usually shackled and blindfolded”.\n",
      "\n",
      "As of the end of June, Israel’s prison service held more than 9,400 “security detainees”, the report said, adding that those detained have been “held in secret, without being given a reason for their detention” and without a lawyer.\n",
      "\n",
      "“At least 53 Palestinian detainees” are known to have died in Israeli detention facilities, it said. It also detailed “allegations of torture and other forms of cruel, inhuman and degrading treatment, including sexual abuse of women and men”.\n",
      "\n",
      "‘Violation’\n",
      "\n",
      "The report was released during an investigation by the Israeli army, which is questioning nine soldiers over allegations of “substantial abuse” of a Palestinian detainee at the Sde Teiman detention camp in the Negev desert in southern Israel.\n",
      "\n",
      "Last week, eight Palestinian prisoners who were released by the Israeli army said they experienced torture during their time in Ofer Prison in the occupied West Bank.\n",
      "\n",
      "Former Palestinian detainees told the UN that they were held in “cage-like facilities, stripped naked for prolonged periods, wearing only diapers”.\n",
      "\n",
      "The documented abuse included food, sleep and water deprivation and being burned with cigarettes.\n",
      "\n",
      "“Some detainees said dogs were released on them, and others said they were subjected to waterboarding, or that their hands were tied and they were suspended from the ceiling. Some women and men also spoke of sexual and gender-based violence,” the report said.\n",
      "\n",
      "Palestinian detainees held in Israel are mostly men and boys who are residents, doctors or patients as well as captured Palestinian fighters, it added.\n",
      "\n",
      "UN High Commissioner for Human Rights Volker Turk said the testimonies gathered by his office and “other entities indicate a range of appalling acts … in flagrant violation of international human rights law and international humanitarian law”.\n",
      "\n",
      "The Israeli military rarely explains its reasons for detaining Palestinians in Gaza although it some cases it has alleged affiliation with Palestinian armed groups or their political wings, the report added.\n",
      "\n",
      "Israel also fails to provide information regarding the fate of detainees while the Red Cross has been denied access to prisons and other facilities. \n",
      "\n",
      "\n"
     ]
    }
   ],
   "source": [
    "print(article['title'], '\\n\\n')\n",
    "print(article['authors'], '\\n\\n')\n",
    "print(article['source'], '\\n\\n')\n",
    "print(article['article'], '\\n\\n')"
   ]
  },
  {
   "cell_type": "markdown",
   "metadata": {},
   "source": [
    "### Summarization"
   ]
  },
  {
   "cell_type": "code",
   "execution_count": 24,
   "metadata": {},
   "outputs": [],
   "source": [
    "from hf_summarizer import bart_summarize"
   ]
  },
  {
   "cell_type": "code",
   "execution_count": 25,
   "metadata": {},
   "outputs": [],
   "source": [
    "# this function uses this model: https://huggingface.co/sshleifer/distilbart-cnn-12-6\n",
    "# which is a bert-like model trained on the cnn-dailymail dataset\n",
    "# its one of the best summarization models available in transformers, very fast, good for deployment\n",
    "summary = bart_summarize(article['article'])"
   ]
  },
  {
   "cell_type": "code",
   "execution_count": 26,
   "metadata": {},
   "outputs": [
    {
     "data": {
      "text/plain": [
       "\" UN report says 'thousands' of Palestinians detained arbitrarily by Israel during the war in Gaza. Report says detainees have been held in secret, without being given a reason for their detention. It also detailed ‘allegations of torture and other forms of cruel, inhuman and degrading treatment’ of women and men.\""
      ]
     },
     "execution_count": 26,
     "metadata": {},
     "output_type": "execute_result"
    }
   ],
   "source": [
    "summary"
   ]
  },
  {
   "cell_type": "markdown",
   "metadata": {},
   "source": [
    "#### There are many other summary options available in hf_summarizer.py including different pegasus models, t5"
   ]
  },
  {
   "cell_type": "markdown",
   "metadata": {},
   "source": [
    "### Statistical Summarization"
   ]
  },
  {
   "cell_type": "code",
   "execution_count": 27,
   "metadata": {},
   "outputs": [],
   "source": [
    "from statistical_summarize import run_statistical_summarizers"
   ]
  },
  {
   "cell_type": "code",
   "execution_count": 28,
   "metadata": {},
   "outputs": [
    {
     "name": "stdout",
     "output_type": "stream",
     "text": [
      "**********Statistical Summarizations**********\n",
      "\n",
      "\n",
      "TF IDF Summary:\n",
      "The documented abuse included food, sleep and water deprivation and being burned with cigarettes. “Some detainees said dogs were released on them, and others said they were subjected to waterboarding, or that their hands were tied and they were suspended from the ceiling. Some women and men also spoke of sexual and gender-based violence,” the report said. Palestinian detainees held in Israel are mostly men and boys who are residents, doctors or patients as well as captured Palestinian fighters, it added. Israel also fails to provide information regarding the fate of detainees while the Red Cross has been denied access to prisons and other facilities. \n",
      "\n",
      "\n",
      "Word Frequency Summary:\n",
      "The report says ‘thousands’ of Palestinians detained arbitrarily by Israel during the war in Gaza. The 23-page report, released on Wednesday, noted allegations of widespread abuse of prisoners being held incommunicado in arbitrary, prolonged detention. “At least 53 Palestinian detainees” are known to have died in Israeli detention facilities, it said. Some women and men also spoke of sexual and gender-based violence,” the report said. Palestinian detainees held in Israel are mostly men and boys who are residents, doctors or patients as well as captured Palestinian fighters, it added.  \n",
      "\n",
      "\n"
     ]
    }
   ],
   "source": [
    "run_statistical_summarizers(text=article['article'], num_sentences=5)"
   ]
  },
  {
   "cell_type": "markdown",
   "metadata": {},
   "source": [
    "#### These statistical techniques do not use any Machine Learning algorithms but are very fast and give a decent result"
   ]
  },
  {
   "cell_type": "markdown",
   "metadata": {},
   "source": [
    "### Sentiment Analysis"
   ]
  },
  {
   "cell_type": "code",
   "execution_count": 29,
   "metadata": {},
   "outputs": [],
   "source": [
    "from sentiment_analysis import hf_topn_sentiment"
   ]
  },
  {
   "cell_type": "code",
   "execution_count": 30,
   "metadata": {},
   "outputs": [
    {
     "name": "stderr",
     "output_type": "stream",
     "text": [
      "No model was supplied, defaulted to distilbert/distilbert-base-uncased-finetuned-sst-2-english and revision af0f99b (https://huggingface.co/distilbert/distilbert-base-uncased-finetuned-sst-2-english).\n",
      "Using a pipeline without specifying a model name and revision in production is not recommended.\n",
      "Hardware accelerator e.g. GPU is available in the environment, but no `device` argument is passed to the `Pipeline` object. Model will be on CPU.\n",
      "No model was supplied, defaulted to distilbert/distilbert-base-uncased-finetuned-sst-2-english and revision af0f99b (https://huggingface.co/distilbert/distilbert-base-uncased-finetuned-sst-2-english).\n",
      "Using a pipeline without specifying a model name and revision in production is not recommended.\n",
      "Hardware accelerator e.g. GPU is available in the environment, but no `device` argument is passed to the `Pipeline` object. Model will be on CPU.\n",
      "No model was supplied, defaulted to distilbert/distilbert-base-uncased-finetuned-sst-2-english and revision af0f99b (https://huggingface.co/distilbert/distilbert-base-uncased-finetuned-sst-2-english).\n",
      "Using a pipeline without specifying a model name and revision in production is not recommended.\n",
      "Hardware accelerator e.g. GPU is available in the environment, but no `device` argument is passed to the `Pipeline` object. Model will be on CPU.\n",
      "No model was supplied, defaulted to distilbert/distilbert-base-uncased-finetuned-sst-2-english and revision af0f99b (https://huggingface.co/distilbert/distilbert-base-uncased-finetuned-sst-2-english).\n",
      "Using a pipeline without specifying a model name and revision in production is not recommended.\n",
      "Hardware accelerator e.g. GPU is available in the environment, but no `device` argument is passed to the `Pipeline` object. Model will be on CPU.\n",
      "No model was supplied, defaulted to distilbert/distilbert-base-uncased-finetuned-sst-2-english and revision af0f99b (https://huggingface.co/distilbert/distilbert-base-uncased-finetuned-sst-2-english).\n",
      "Using a pipeline without specifying a model name and revision in production is not recommended.\n",
      "Hardware accelerator e.g. GPU is available in the environment, but no `device` argument is passed to the `Pipeline` object. Model will be on CPU.\n",
      "No model was supplied, defaulted to distilbert/distilbert-base-uncased-finetuned-sst-2-english and revision af0f99b (https://huggingface.co/distilbert/distilbert-base-uncased-finetuned-sst-2-english).\n",
      "Using a pipeline without specifying a model name and revision in production is not recommended.\n",
      "Hardware accelerator e.g. GPU is available in the environment, but no `device` argument is passed to the `Pipeline` object. Model will be on CPU.\n",
      "No model was supplied, defaulted to distilbert/distilbert-base-uncased-finetuned-sst-2-english and revision af0f99b (https://huggingface.co/distilbert/distilbert-base-uncased-finetuned-sst-2-english).\n",
      "Using a pipeline without specifying a model name and revision in production is not recommended.\n",
      "Hardware accelerator e.g. GPU is available in the environment, but no `device` argument is passed to the `Pipeline` object. Model will be on CPU.\n",
      "No model was supplied, defaulted to distilbert/distilbert-base-uncased-finetuned-sst-2-english and revision af0f99b (https://huggingface.co/distilbert/distilbert-base-uncased-finetuned-sst-2-english).\n",
      "Using a pipeline without specifying a model name and revision in production is not recommended.\n",
      "Hardware accelerator e.g. GPU is available in the environment, but no `device` argument is passed to the `Pipeline` object. Model will be on CPU.\n",
      "No model was supplied, defaulted to distilbert/distilbert-base-uncased-finetuned-sst-2-english and revision af0f99b (https://huggingface.co/distilbert/distilbert-base-uncased-finetuned-sst-2-english).\n",
      "Using a pipeline without specifying a model name and revision in production is not recommended.\n",
      "Hardware accelerator e.g. GPU is available in the environment, but no `device` argument is passed to the `Pipeline` object. Model will be on CPU.\n",
      "No model was supplied, defaulted to distilbert/distilbert-base-uncased-finetuned-sst-2-english and revision af0f99b (https://huggingface.co/distilbert/distilbert-base-uncased-finetuned-sst-2-english).\n",
      "Using a pipeline without specifying a model name and revision in production is not recommended.\n",
      "Hardware accelerator e.g. GPU is available in the environment, but no `device` argument is passed to the `Pipeline` object. Model will be on CPU.\n",
      "No model was supplied, defaulted to distilbert/distilbert-base-uncased-finetuned-sst-2-english and revision af0f99b (https://huggingface.co/distilbert/distilbert-base-uncased-finetuned-sst-2-english).\n",
      "Using a pipeline without specifying a model name and revision in production is not recommended.\n",
      "Hardware accelerator e.g. GPU is available in the environment, but no `device` argument is passed to the `Pipeline` object. Model will be on CPU.\n",
      "No model was supplied, defaulted to distilbert/distilbert-base-uncased-finetuned-sst-2-english and revision af0f99b (https://huggingface.co/distilbert/distilbert-base-uncased-finetuned-sst-2-english).\n",
      "Using a pipeline without specifying a model name and revision in production is not recommended.\n",
      "Hardware accelerator e.g. GPU is available in the environment, but no `device` argument is passed to the `Pipeline` object. Model will be on CPU.\n",
      "No model was supplied, defaulted to distilbert/distilbert-base-uncased-finetuned-sst-2-english and revision af0f99b (https://huggingface.co/distilbert/distilbert-base-uncased-finetuned-sst-2-english).\n",
      "Using a pipeline without specifying a model name and revision in production is not recommended.\n",
      "Hardware accelerator e.g. GPU is available in the environment, but no `device` argument is passed to the `Pipeline` object. Model will be on CPU.\n",
      "No model was supplied, defaulted to distilbert/distilbert-base-uncased-finetuned-sst-2-english and revision af0f99b (https://huggingface.co/distilbert/distilbert-base-uncased-finetuned-sst-2-english).\n",
      "Using a pipeline without specifying a model name and revision in production is not recommended.\n",
      "Hardware accelerator e.g. GPU is available in the environment, but no `device` argument is passed to the `Pipeline` object. Model will be on CPU.\n",
      "No model was supplied, defaulted to distilbert/distilbert-base-uncased-finetuned-sst-2-english and revision af0f99b (https://huggingface.co/distilbert/distilbert-base-uncased-finetuned-sst-2-english).\n",
      "Using a pipeline without specifying a model name and revision in production is not recommended.\n",
      "Hardware accelerator e.g. GPU is available in the environment, but no `device` argument is passed to the `Pipeline` object. Model will be on CPU.\n",
      "No model was supplied, defaulted to distilbert/distilbert-base-uncased-finetuned-sst-2-english and revision af0f99b (https://huggingface.co/distilbert/distilbert-base-uncased-finetuned-sst-2-english).\n",
      "Using a pipeline without specifying a model name and revision in production is not recommended.\n",
      "Hardware accelerator e.g. GPU is available in the environment, but no `device` argument is passed to the `Pipeline` object. Model will be on CPU.\n",
      "No model was supplied, defaulted to distilbert/distilbert-base-uncased-finetuned-sst-2-english and revision af0f99b (https://huggingface.co/distilbert/distilbert-base-uncased-finetuned-sst-2-english).\n",
      "Using a pipeline without specifying a model name and revision in production is not recommended.\n",
      "Hardware accelerator e.g. GPU is available in the environment, but no `device` argument is passed to the `Pipeline` object. Model will be on CPU.\n",
      "No model was supplied, defaulted to distilbert/distilbert-base-uncased-finetuned-sst-2-english and revision af0f99b (https://huggingface.co/distilbert/distilbert-base-uncased-finetuned-sst-2-english).\n",
      "Using a pipeline without specifying a model name and revision in production is not recommended.\n",
      "Hardware accelerator e.g. GPU is available in the environment, but no `device` argument is passed to the `Pipeline` object. Model will be on CPU.\n"
     ]
    }
   ],
   "source": [
    "# this function returns the top positive and top negative sentences from a piece of text,\n",
    "# not exactly summarization but can get the most polarizing lines from an article\n",
    "top_positive, top_negative = hf_topn_sentiment(article['article'])"
   ]
  },
  {
   "cell_type": "code",
   "execution_count": 31,
   "metadata": {},
   "outputs": [
    {
     "data": {
      "text/plain": [
       "[(0.9423840641975403,\n",
       "  'It also detailed “allegations of torture and other forms of cruel, inhuman and degrading treatment, including sexual abuse of women and men”.')]"
      ]
     },
     "execution_count": 31,
     "metadata": {},
     "output_type": "execute_result"
    }
   ],
   "source": [
    "top_positive"
   ]
  },
  {
   "cell_type": "code",
   "execution_count": 32,
   "metadata": {},
   "outputs": [
    {
     "data": {
      "text/plain": [
       "[(0.9979819059371948,\n",
       "  'UN High Commissioner for Human Rights Volker Turk said the testimonies gathered by his office and “other entities indicate a range of appalling acts … in flagrant violation of international human rights law and international humanitarian law”.'),\n",
       " (0.9996262788772583,\n",
       "  'Israel also fails to provide information regarding the fate of detainees while the Red Cross has been denied access to prisons and other facilities.')]"
      ]
     },
     "execution_count": 32,
     "metadata": {},
     "output_type": "execute_result"
    }
   ],
   "source": [
    "top_negative"
   ]
  }
 ],
 "metadata": {
  "kernelspec": {
   "display_name": "Python 3",
   "language": "python",
   "name": "python3"
  },
  "language_info": {
   "codemirror_mode": {
    "name": "ipython",
    "version": 3
   },
   "file_extension": ".py",
   "mimetype": "text/x-python",
   "name": "python",
   "nbconvert_exporter": "python",
   "pygments_lexer": "ipython3",
   "version": "3.11.9"
  }
 },
 "nbformat": 4,
 "nbformat_minor": 4
}
